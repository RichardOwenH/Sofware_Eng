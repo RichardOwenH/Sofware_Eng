{
 "cells": [
  {
   "cell_type": "code",
   "execution_count": 1,
   "metadata": {
    "id": "-Rd4b4jkFBp-"
   },
   "outputs": [],
   "source": [
    "# Contoh Contoh Variabel\n",
    "a = 10 #Integer\n",
    "b = 3.14 #Float\n",
    "c = \"A\" #String\n",
    "d = 'Richard Owen H' #String\n",
    "f = True #Boolean\n",
    "g = False #Boolean\n",
    "h = [] #List\n",
    "i = {} #Dictionary\n",
    "j = () #Tuple"
   ]
  },
  {
   "cell_type": "code",
   "execution_count": 2,
   "metadata": {
    "colab": {
     "base_uri": "https://localhost:8080/"
    },
    "id": "as-bB-6PH0ib",
    "outputId": "0779764e-491a-427a-89a1-1b24e9786cae"
   },
   "outputs": [
    {
     "name": "stdout",
     "output_type": "stream",
     "text": [
      "Richard Owen Hendarto\n",
      "hai hai\n"
     ]
    }
   ],
   "source": [
    "# Print\n",
    "\n",
    "print(\"Richard Owen Hendarto\")\n",
    "print('hai hai')"
   ]
  },
  {
   "cell_type": "code",
   "execution_count": 3,
   "metadata": {
    "colab": {
     "base_uri": "https://localhost:8080/"
    },
    "id": "L5mv-7BhIBhY",
    "outputId": "6d1f915d-f5df-4430-a613-eb9e76c5bc72"
   },
   "outputs": [
    {
     "name": "stdout",
     "output_type": "stream",
     "text": [
      "2\n",
      "32\n"
     ]
    }
   ],
   "source": [
    "print(2)\n",
    "print(2+3*10)"
   ]
  },
  {
   "cell_type": "code",
   "execution_count": 4,
   "metadata": {
    "colab": {
     "base_uri": "https://localhost:8080/"
    },
    "id": "4SIV-VJwIDvL",
    "outputId": "93a8eccb-bc9a-489e-a0c3-445feb66c05d"
   },
   "outputs": [
    {
     "name": "stdout",
     "output_type": "stream",
     "text": [
      "Richard Owen H\n"
     ]
    }
   ],
   "source": [
    "print(d)"
   ]
  },
  {
   "cell_type": "code",
   "execution_count": 5,
   "metadata": {
    "colab": {
     "base_uri": "https://localhost:8080/"
    },
    "id": "N3Wfc3rLK5vr",
    "outputId": "84596e96-24f1-4509-dcc8-ed553318518e"
   },
   "outputs": [
    {
     "name": "stdout",
     "output_type": "stream",
     "text": [
      "Hai namaku Richard Owen H\n"
     ]
    }
   ],
   "source": [
    "# Concate\n",
    "print(\"Hai namaku \" + d)"
   ]
  },
  {
   "cell_type": "code",
   "execution_count": 6,
   "metadata": {
    "colab": {
     "base_uri": "https://localhost:8080/"
    },
    "id": "shFW-Ib4LMua",
    "outputId": "5c1b7de4-c32c-4d56-e88d-297532e5ce85"
   },
   "outputs": [
    {
     "name": "stdout",
     "output_type": "stream",
     "text": [
      "Hai namaku Richard Owen H\n"
     ]
    }
   ],
   "source": [
    "print(\"Hai namaku {}\".format(d))"
   ]
  },
  {
   "cell_type": "code",
   "execution_count": 7,
   "metadata": {
    "colab": {
     "base_uri": "https://localhost:8080/",
     "height": 171
    },
    "id": "rIlZK6_8LbQS",
    "outputId": "a1456f62-5c6e-4ee9-8737-14cb24a86fc9"
   },
   "outputs": [
    {
     "ename": "TypeError",
     "evalue": "can only concatenate str (not \"int\") to str",
     "output_type": "error",
     "traceback": [
      "\u001b[1;31m---------------------------------------------------------------------------\u001b[0m",
      "\u001b[1;31mTypeError\u001b[0m                                 Traceback (most recent call last)",
      "\u001b[1;32m<ipython-input-7-a9d7f053ef2d>\u001b[0m in \u001b[0;36m<module>\u001b[1;34m\u001b[0m\n\u001b[1;32m----> 1\u001b[1;33m \u001b[0mprint\u001b[0m\u001b[1;33m(\u001b[0m\u001b[1;34m\"Nilainya adalah \"\u001b[0m \u001b[1;33m+\u001b[0m \u001b[0ma\u001b[0m\u001b[1;33m)\u001b[0m\u001b[1;33m\u001b[0m\u001b[1;33m\u001b[0m\u001b[0m\n\u001b[0m",
      "\u001b[1;31mTypeError\u001b[0m: can only concatenate str (not \"int\") to str"
     ]
    }
   ],
   "source": [
    "print(\"Nilainya adalah \" + a)"
   ]
  },
  {
   "cell_type": "code",
   "execution_count": 8,
   "metadata": {
    "colab": {
     "base_uri": "https://localhost:8080/"
    },
    "id": "RL4gYucALn8r",
    "outputId": "21c332ba-4b67-4627-e09f-ebd2a8e6aeca"
   },
   "outputs": [
    {
     "name": "stdout",
     "output_type": "stream",
     "text": [
      "Nilainya adalah 10\n"
     ]
    }
   ],
   "source": [
    "print(\"Nilainya adalah \" + str(a))"
   ]
  },
  {
   "cell_type": "code",
   "execution_count": 9,
   "metadata": {
    "colab": {
     "base_uri": "https://localhost:8080/"
    },
    "id": "oJln0v_GLr3A",
    "outputId": "7d51c9df-0cc8-4de1-b59d-9d1c19f05e4a"
   },
   "outputs": [
    {
     "name": "stdout",
     "output_type": "stream",
     "text": [
      "Nilainya adalah []\n"
     ]
    }
   ],
   "source": [
    "print(\"Nilainya adalah {}\".format(h))"
   ]
  },
  {
   "cell_type": "code",
   "execution_count": 11,
   "metadata": {
    "colab": {
     "base_uri": "https://localhost:8080/"
    },
    "id": "GImsxFYLL8xp",
    "outputId": "bf051702-c713-48fd-fcbd-b4821c9f87c3"
   },
   "outputs": [
    {
     "name": "stdout",
     "output_type": "stream",
     "text": [
      "Namaku Richard Owen H, Nilai Ujianku 10, dan aku orang Pontianak True\n"
     ]
    }
   ],
   "source": [
    "print(\"Namaku {}, Nilai Ujianku {}, dan aku orang Pontianak {}\".format(d,a,f))"
   ]
  },
  {
   "cell_type": "code",
   "execution_count": 12,
   "metadata": {
    "id": "Xdztqz49NYX1"
   },
   "outputs": [],
   "source": [
    "Sekolah = [\"Kelas\", 10, True, 3.14, [\"Bambang\",\"Budi\",\"Joko\"], {\"Hewan\":\"Gajah\"}]"
   ]
  },
  {
   "cell_type": "code",
   "execution_count": 13,
   "metadata": {
    "colab": {
     "base_uri": "https://localhost:8080/"
    },
    "id": "Q918LswLRU93",
    "outputId": "2bbfd0a4-b117-4ac2-ceb7-8b94b186d685"
   },
   "outputs": [
    {
     "name": "stdout",
     "output_type": "stream",
     "text": [
      "['Kelas', 10, True, 3.14, ['Bambang', 'Budi', 'Joko'], {'Hewan': 'Gajah'}]\n"
     ]
    }
   ],
   "source": [
    "print(Sekolah)"
   ]
  },
  {
   "cell_type": "code",
   "execution_count": null,
   "metadata": {
    "colab": {
     "base_uri": "https://localhost:8080/"
    },
    "id": "7kf5oHEoRXuO",
    "outputId": "d19c540b-3362-42cb-a868-187e16fa45d7"
   },
   "outputs": [],
   "source": [
    "# for(int i = 0;i<5;i+=2)\n",
    "Sekolah[0:5:2]"
   ]
  },
  {
   "cell_type": "code",
   "execution_count": 14,
   "metadata": {
    "colab": {
     "base_uri": "https://localhost:8080/",
     "height": 36
    },
    "id": "KFvhtPfMN3B8",
    "outputId": "4a610372-0d55-4a51-a0a6-c84d5453afe2"
   },
   "outputs": [
    {
     "data": {
      "text/plain": [
       "'Kelas'"
      ]
     },
     "execution_count": 14,
     "metadata": {},
     "output_type": "execute_result"
    }
   ],
   "source": [
    "Sekolah[0]"
   ]
  },
  {
   "cell_type": "code",
   "execution_count": 15,
   "metadata": {
    "colab": {
     "base_uri": "https://localhost:8080/",
     "height": 171
    },
    "id": "BP5BRZ0rOLF0",
    "outputId": "273f692c-089a-4d60-f2ab-620da2940428"
   },
   "outputs": [
    {
     "ename": "NameError",
     "evalue": "name 'sekolah' is not defined",
     "output_type": "error",
     "traceback": [
      "\u001b[1;31m---------------------------------------------------------------------------\u001b[0m",
      "\u001b[1;31mNameError\u001b[0m                                 Traceback (most recent call last)",
      "\u001b[1;32m<ipython-input-15-c431f3f5ad73>\u001b[0m in \u001b[0;36m<module>\u001b[1;34m\u001b[0m\n\u001b[1;32m----> 1\u001b[1;33m \u001b[0msekolah\u001b[0m\u001b[1;33m[\u001b[0m\u001b[1;36m0\u001b[0m\u001b[1;33m]\u001b[0m\u001b[1;33m\u001b[0m\u001b[1;33m\u001b[0m\u001b[0m\n\u001b[0m",
      "\u001b[1;31mNameError\u001b[0m: name 'sekolah' is not defined"
     ]
    }
   ],
   "source": [
    "sekolah[0]"
   ]
  },
  {
   "cell_type": "code",
   "execution_count": 16,
   "metadata": {
    "colab": {
     "base_uri": "https://localhost:8080/"
    },
    "id": "8E5sJrlLOT35",
    "outputId": "30428153-00e5-49dd-b7e3-c6b7d2e6be9b"
   },
   "outputs": [
    {
     "data": {
      "text/plain": [
       "['Bambang', 'Budi', 'Joko']"
      ]
     },
     "execution_count": 16,
     "metadata": {},
     "output_type": "execute_result"
    }
   ],
   "source": [
    "Sekolah[4]"
   ]
  },
  {
   "cell_type": "code",
   "execution_count": 17,
   "metadata": {
    "colab": {
     "base_uri": "https://localhost:8080/",
     "height": 36
    },
    "id": "03DuV8J0OuRh",
    "outputId": "2660813a-15ec-43f0-cab3-04979de541e9"
   },
   "outputs": [
    {
     "data": {
      "text/plain": [
       "'Bambang'"
      ]
     },
     "execution_count": 17,
     "metadata": {},
     "output_type": "execute_result"
    }
   ],
   "source": [
    "Sekolah[4][0]"
   ]
  },
  {
   "cell_type": "code",
   "execution_count": 18,
   "metadata": {
    "colab": {
     "base_uri": "https://localhost:8080/",
     "height": 36
    },
    "id": "r0EUNCkCOZmV",
    "outputId": "35790315-9086-464b-a448-c8f6586343c7"
   },
   "outputs": [
    {
     "data": {
      "text/plain": [
       "'Gajah'"
      ]
     },
     "execution_count": 18,
     "metadata": {},
     "output_type": "execute_result"
    }
   ],
   "source": [
    "Sekolah[-1][\"Hewan\"]"
   ]
  },
  {
   "cell_type": "code",
   "execution_count": 19,
   "metadata": {
    "id": "4RpsVl-lPJNa"
   },
   "outputs": [],
   "source": [
    "Nama_Siswa = [\"Bambang\",\"Budi\",\"Joko\",\"Alvin\", \"Said\", \"Mariano\",\"David\"]"
   ]
  },
  {
   "cell_type": "code",
   "execution_count": 20,
   "metadata": {
    "colab": {
     "base_uri": "https://localhost:8080/"
    },
    "id": "KZ6yepamPRG9",
    "outputId": "8369c4d2-526a-4cb3-ba8c-856900585b75"
   },
   "outputs": [
    {
     "data": {
      "text/plain": [
       "['Joko', 'Alvin', 'Said']"
      ]
     },
     "execution_count": 20,
     "metadata": {},
     "output_type": "execute_result"
    }
   ],
   "source": [
    "# List Slicing\n",
    "Nama_Siswa[2:5] #2,3,4"
   ]
  },
  {
   "cell_type": "code",
   "execution_count": 21,
   "metadata": {
    "colab": {
     "base_uri": "https://localhost:8080/"
    },
    "id": "zuFQ2IRdQG4p",
    "outputId": "e50c42d0-31ee-4232-e2d8-57af26f0b548"
   },
   "outputs": [
    {
     "data": {
      "text/plain": [
       "['Alvin', 'Said', 'Mariano']"
      ]
     },
     "execution_count": 21,
     "metadata": {},
     "output_type": "execute_result"
    }
   ],
   "source": [
    "Nama_Siswa[3:-1]"
   ]
  },
  {
   "cell_type": "code",
   "execution_count": 22,
   "metadata": {
    "colab": {
     "base_uri": "https://localhost:8080/"
    },
    "id": "x7iEBZVlPmvO",
    "outputId": "24223192-ee31-4fd5-9516-5e11cec34a9d"
   },
   "outputs": [
    {
     "data": {
      "text/plain": [
       "['Mariano', 'David']"
      ]
     },
     "execution_count": 22,
     "metadata": {},
     "output_type": "execute_result"
    }
   ],
   "source": [
    "Nama_Siswa[-2:]"
   ]
  },
  {
   "cell_type": "code",
   "execution_count": 23,
   "metadata": {
    "colab": {
     "base_uri": "https://localhost:8080/"
    },
    "id": "JyI6kMenPuhd",
    "outputId": "514d36e3-7e77-4292-a56a-7b0c56d3373e"
   },
   "outputs": [
    {
     "data": {
      "text/plain": [
       "['Said', 'Mariano', 'David']"
      ]
     },
     "execution_count": 23,
     "metadata": {},
     "output_type": "execute_result"
    }
   ],
   "source": [
    "Nama_Siswa[-3:]"
   ]
  },
  {
   "cell_type": "code",
   "execution_count": 25,
   "metadata": {
    "id": "ZEeQ7AiWQS3k"
   },
   "outputs": [],
   "source": [
    "#Dictionary\n",
    "\n",
    "Dict1 = {\"Hewan\":\"Gajah\", 0:22, \"Boolean\":\"Benar\"}"
   ]
  },
  {
   "cell_type": "code",
   "execution_count": 26,
   "metadata": {
    "colab": {
     "base_uri": "https://localhost:8080/",
     "height": 36
    },
    "id": "f6F15kjGQmCS",
    "outputId": "9a95f4f5-8a11-4605-9a1a-96ca238cfa09"
   },
   "outputs": [
    {
     "data": {
      "text/plain": [
       "'Gajah'"
      ]
     },
     "execution_count": 26,
     "metadata": {},
     "output_type": "execute_result"
    }
   ],
   "source": [
    "Dict1[\"Hewan\"]"
   ]
  },
  {
   "cell_type": "code",
   "execution_count": 27,
   "metadata": {
    "colab": {
     "base_uri": "https://localhost:8080/"
    },
    "id": "aaidmgxBQorn",
    "outputId": "e2ee3f24-49b2-4d39-ecff-ed94d8b5428f"
   },
   "outputs": [
    {
     "data": {
      "text/plain": [
       "22"
      ]
     },
     "execution_count": 27,
     "metadata": {},
     "output_type": "execute_result"
    }
   ],
   "source": [
    "Dict1[0]"
   ]
  },
  {
   "cell_type": "code",
   "execution_count": 28,
   "metadata": {
    "colab": {
     "base_uri": "https://localhost:8080/",
     "height": 36
    },
    "id": "14to_qFDQtfQ",
    "outputId": "1bc63052-446d-4c06-ddbe-f1d42980108b"
   },
   "outputs": [
    {
     "data": {
      "text/plain": [
       "'Benar'"
      ]
     },
     "execution_count": 28,
     "metadata": {},
     "output_type": "execute_result"
    }
   ],
   "source": [
    "Dict1[\"Boolean\"]"
   ]
  },
  {
   "cell_type": "code",
   "execution_count": 29,
   "metadata": {
    "colab": {
     "base_uri": "https://localhost:8080/",
     "height": 36
    },
    "id": "rrAgMYe0Q8YN",
    "outputId": "47cf3840-3fcc-4084-9f95-e3f83e33904c"
   },
   "outputs": [
    {
     "data": {
      "text/plain": [
       "'David'"
      ]
     },
     "execution_count": 29,
     "metadata": {},
     "output_type": "execute_result"
    }
   ],
   "source": [
    "Nama_Siswa[6]"
   ]
  },
  {
   "cell_type": "code",
   "execution_count": 30,
   "metadata": {
    "colab": {
     "base_uri": "https://localhost:8080/",
     "height": 36
    },
    "id": "6ODuMyOLRAsr",
    "outputId": "13c8f4f1-c750-4a10-828b-0094bb90e367"
   },
   "outputs": [
    {
     "data": {
      "text/plain": [
       "'David'"
      ]
     },
     "execution_count": 30,
     "metadata": {},
     "output_type": "execute_result"
    }
   ],
   "source": [
    "Nama_Siswa[-1]"
   ]
  },
  {
   "cell_type": "code",
   "execution_count": 31,
   "metadata": {},
   "outputs": [],
   "source": [
    "dict = { \"name\":True}"
   ]
  },
  {
   "cell_type": "code",
   "execution_count": 32,
   "metadata": {},
   "outputs": [
    {
     "name": "stdout",
     "output_type": "stream",
     "text": [
      "{'name': True}\n"
     ]
    }
   ],
   "source": [
    "print (dict)"
   ]
  },
  {
   "cell_type": "code",
   "execution_count": 34,
   "metadata": {},
   "outputs": [
    {
     "data": {
      "text/plain": [
       "['Bambang', 'Joko', 'Said', 'David']"
      ]
     },
     "execution_count": 34,
     "metadata": {},
     "output_type": "execute_result"
    }
   ],
   "source": [
    "Nama_Siswa[0:7:2]"
   ]
  },
  {
   "cell_type": "code",
   "execution_count": 35,
   "metadata": {},
   "outputs": [
    {
     "name": "stdout",
     "output_type": "stream",
     "text": [
      "Alvin\n"
     ]
    }
   ],
   "source": [
    "print (\"{}\".format(Nama_Siswa[3]))"
   ]
  },
  {
   "cell_type": "code",
   "execution_count": 36,
   "metadata": {},
   "outputs": [
    {
     "name": "stdout",
     "output_type": "stream",
     "text": [
      "David\n"
     ]
    }
   ],
   "source": [
    "print(\"{}\".format(Nama_Siswa[6]))"
   ]
  },
  {
   "cell_type": "code",
   "execution_count": null,
   "metadata": {},
   "outputs": [],
   "source": []
  }
 ],
 "metadata": {
  "colab": {
   "name": "Untitled13.ipynb",
   "provenance": []
  },
  "kernelspec": {
   "display_name": "Python 3",
   "language": "python",
   "name": "python3"
  },
  "language_info": {
   "codemirror_mode": {
    "name": "ipython",
    "version": 3
   },
   "file_extension": ".py",
   "mimetype": "text/x-python",
   "name": "python",
   "nbconvert_exporter": "python",
   "pygments_lexer": "ipython3",
   "version": "3.8.5"
  }
 },
 "nbformat": 4,
 "nbformat_minor": 1
}
